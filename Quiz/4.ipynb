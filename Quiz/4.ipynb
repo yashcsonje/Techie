{
 "cells": [
  {
   "cell_type": "code",
   "execution_count": 1,
   "metadata": {},
   "outputs": [
    {
     "name": "stdout",
     "output_type": "stream",
     "text": [
      "t\n"
     ]
    }
   ],
   "source": [
    "print('Python'[1+1])"
   ]
  },
  {
   "cell_type": "code",
   "execution_count": 2,
   "metadata": {},
   "outputs": [],
   "source": [
    "# 'Python': This is a string literal containing the word \"Python\". \n",
    "# In Python, strings are indexed, meaning you can access individual characters by their position within the string.\n",
    "\n",
    "# [1+1]: This part is an index operation. \n",
    "# It's indexing the string 'Python' with the result of the expression 1+1. In this case, 1+1 evaluates to 2.\n",
    "\n",
    "# So, 'Python'[1+1] is equivalent to 'Python'[2], \n",
    "# which accesses the character at index 2 in the string 'Python'. \n",
    "# In Python, indexing starts from 0, so 'P' is at index 0, 'y' is at index 1, and 't' is at index 2.\n",
    "\n",
    "# Therefore, print('Python'[1+1]) will output the character at index 2 of the string 'Python', which is 't'"
   ]
  }
 ],
 "metadata": {
  "kernelspec": {
   "display_name": "Python 3",
   "language": "python",
   "name": "python3"
  },
  "language_info": {
   "codemirror_mode": {
    "name": "ipython",
    "version": 3
   },
   "file_extension": ".py",
   "mimetype": "text/x-python",
   "name": "python",
   "nbconvert_exporter": "python",
   "pygments_lexer": "ipython3",
   "version": "3.11.2"
  }
 },
 "nbformat": 4,
 "nbformat_minor": 2
}
