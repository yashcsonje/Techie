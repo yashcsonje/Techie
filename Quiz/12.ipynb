{
 "cells": [
  {
   "cell_type": "code",
   "execution_count": 1,
   "metadata": {},
   "outputs": [
    {
     "name": "stdout",
     "output_type": "stream",
     "text": [
      "output : 0\n"
     ]
    }
   ],
   "source": [
    "x = {1,2,1}\n",
    "y = len(x)^2\n",
    "print(f'output : {y}')"
   ]
  },
  {
   "cell_type": "code",
   "execution_count": 2,
   "metadata": {},
   "outputs": [],
   "source": [
    "#  a set x is defined with elements {1, 2, 1}.\n",
    "#  Remember, sets in Python do not allow duplicate elements,\n",
    "#  so the duplicate 1 is automatically removed, resulting in a set {1, 2}.\n",
    "\n",
    "# Then, y is calculated as the result of the length of set x XOR-ed with 2.\n",
    "\n",
    "# Let's break down the calculation:\n",
    "\n",
    "# Length of set x: Since the set contains elements {1, 2}, its length is 2.\n",
    "# XOR operation with 2: XOR is a bitwise operation. \n",
    "# In this case, XOR-ing 2 with 2 will result in 0.\n",
    "# So, y will be 0."
   ]
  }
 ],
 "metadata": {
  "kernelspec": {
   "display_name": "Python 3",
   "language": "python",
   "name": "python3"
  },
  "language_info": {
   "codemirror_mode": {
    "name": "ipython",
    "version": 3
   },
   "file_extension": ".py",
   "mimetype": "text/x-python",
   "name": "python",
   "nbconvert_exporter": "python",
   "pygments_lexer": "ipython3",
   "version": "3.12.2"
  }
 },
 "nbformat": 4,
 "nbformat_minor": 2
}
